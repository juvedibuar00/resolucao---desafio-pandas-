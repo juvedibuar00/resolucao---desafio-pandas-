{
 "cells": [
  {
   "cell_type": "code",
   "execution_count": 1,
   "id": "833c458d",
   "metadata": {},
   "outputs": [
    {
     "name": "stdout",
     "output_type": "stream",
     "text": [
      "   Duration  Pulse  Maxpulse  Calories\n",
      "0        60    110       130     409.1\n",
      "1        60    117       145     479.0\n",
      "2        60    103       135     340.0\n",
      "3        45    109       175     282.4\n",
      "4        45    117       148     406.0\n",
      "5        60    102       127     300.0\n",
      "6        60    110       136     374.0\n",
      "7        45    104       134     253.3\n"
     ]
    }
   ],
   "source": [
    "# Carregue o dataset data.csv em um DataFrame do Pandas e exiba as  primeiras 8 linhas.\n",
    "import pandas as pd\n",
    "df = pd.read_csv('data.csv')\n",
    "print(df.head(8))"
   ]
  },
  {
   "cell_type": "code",
   "execution_count": 2,
   "id": "7ae4ecbe",
   "metadata": {},
   "outputs": [
    {
     "name": "stdout",
     "output_type": "stream",
     "text": [
      "(169, 4)\n"
     ]
    }
   ],
   "source": [
    "# 1. Quantas linhas e colunas existem no dataset?\n",
    "print(df.shape)"
   ]
  },
  {
   "cell_type": "code",
   "execution_count": null,
   "id": "448f7fe6",
   "metadata": {},
   "outputs": [],
   "source": [
    "# 2. Quais são os nomes e tipos de dados das colunas?\n",
    "print(df.dtypes)"
   ]
  },
  {
   "cell_type": "code",
   "execution_count": null,
   "id": "82f3dbec",
   "metadata": {},
   "outputs": [],
   "source": [
    "# 3. Exiba um resumo estatístico descritivo para todas as colunas numéricas.\n",
    "print(df.describe())"
   ]
  },
  {
   "cell_type": "code",
   "execution_count": null,
   "id": "a5edf000",
   "metadata": {},
   "outputs": [],
   "source": [
    "# 4. Verifique se há valores ausentes no dataset. Quantos valores ausentes  existem em cada coluna?\n",
    "print(df.isnull().sum())"
   ]
  },
  {
   "cell_type": "code",
   "execution_count": 14,
   "id": "8470640e",
   "metadata": {},
   "outputs": [
    {
     "name": "stdout",
     "output_type": "stream",
     "text": [
      "A média da coluna \"Pulse\" é: 107.46\n"
     ]
    }
   ],
   "source": [
    "# 5. Medidas de Tendência Central:\n",
    "# 6. Qual é a média da coluna \"Pulse\"? e redução de casa decimal para 2\n",
    "media = round(df['Pulse'].mean(), 2)\n",
    "print(f'A média da coluna \"Pulse\" é: {media:.2f}')"
   ]
  },
  {
   "cell_type": "code",
   "execution_count": 15,
   "id": "94c488fa",
   "metadata": {},
   "outputs": [
    {
     "name": "stdout",
     "output_type": "stream",
     "text": [
      "A mediana da coluna \"Duration\" é: 60.00\n"
     ]
    }
   ],
   "source": [
    "# 7. Qual é a mediana da coluna \"Duration\"?\n",
    "mediana = df['Duration'].median()\n",
    "print(f'A mediana da coluna \"Duration\" é: {mediana:.2f}')"
   ]
  },
  {
   "cell_type": "code",
   "execution_count": null,
   "id": "6d05f739",
   "metadata": {},
   "outputs": [],
   "source": []
  },
  {
   "cell_type": "code",
   "execution_count": 16,
   "id": "442b6e76",
   "metadata": {},
   "outputs": [
    {
     "name": "stdout",
     "output_type": "stream",
     "text": [
      "A média da coluna \"Calories\" para registros com duração superior a 60 minutos é: 812.60\n"
     ]
    }
   ],
   "source": [
    "# . Calcule a média da coluna \"Calories\" apenas para registros  com duração superior  a 60 minutos.\n",
    "media_calorias = df.loc[df['Duration'] > 60, 'Calories'].mean()\n",
    "print(f'A média da coluna \"Calories\" para registros com duração superior a 60 minutos é: {media_calorias:.2f}')"
   ]
  },
  {
   "cell_type": "code",
   "execution_count": 17,
   "id": "703bc73b",
   "metadata": {},
   "outputs": [
    {
     "name": "stdout",
     "output_type": "stream",
     "text": [
      "A mediana de \"Maxpulse\" para registros com Pulse maior que 110 é: 148.50\n"
     ]
    }
   ],
   "source": [
    "# 10. Qual é a mediana de \"Maxpulse\" para registros com Pulse maior que 110?\n",
    "mediana_maxpulse = df.loc[df['Pulse'] > 110, 'Maxpulse'].median()\n",
    "print(f'A mediana de \"Maxpulse\" para registros com Pulse maior que 110 é: {mediana_maxpulse:.2f}')"
   ]
  },
  {
   "cell_type": "code",
   "execution_count": 18,
   "id": "e6bc5367",
   "metadata": {},
   "outputs": [
    {
     "name": "stdout",
     "output_type": "stream",
     "text": [
      "O desvio padrão da coluna \"Calories\" é: 266.38\n"
     ]
    }
   ],
   "source": [
    "# Medidas de Variabilidade:\n",
    "# 11. Qual é o desvio padrão da coluna \"Calories\"?\n",
    "desvio_padrao_calorias = df['Calories'].std()\n",
    "print(f'O desvio padrão da coluna \"Calories\" é: {desvio_padrao_calorias:.2f}')"
   ]
  },
  {
   "cell_type": "code",
   "execution_count": 19,
   "id": "d04c897f",
   "metadata": {},
   "outputs": [
    {
     "name": "stdout",
     "output_type": "stream",
     "text": [
      "A variância da coluna \"Pulse\" é: 210.55\n"
     ]
    }
   ],
   "source": [
    "# 12. Qual é a variância da coluna \"Pulse\"?\n",
    "variancia_pulse = df['Pulse'].var()\n",
    "print(f'A variância da coluna \"Pulse\" é: {variancia_pulse:.2f}')"
   ]
  },
  {
   "cell_type": "code",
   "execution_count": 20,
   "id": "6aff0a42",
   "metadata": {},
   "outputs": [
    {
     "name": "stdout",
     "output_type": "stream",
     "text": [
      "O intervalo da coluna \"Duration\" é: 285.00\n"
     ]
    }
   ],
   "source": [
    "# 13. Qual é o intervalo (máximo - mínimo) da coluna \"Duration\"?\n",
    "intervalo_duration = df['Duration'].max() - df['Duration'].min()\n",
    "print(f'O intervalo da coluna \"Duration\" é: {intervalo_duration:.2f}')"
   ]
  },
  {
   "cell_type": "code",
   "execution_count": 22,
   "id": "72554430",
   "metadata": {},
   "outputs": [
    {
     "name": "stdout",
     "output_type": "stream",
     "text": [
      "O intervalo interquartil (IQR) para a coluna \"Maxpulse\" é: 17.00\n"
     ]
    }
   ],
   "source": [
    "# 14. Calcule o intervalo interquartil (IQR) para a coluna \"Maxpulse\".\n",
    "q1 = df['Maxpulse'].quantile(0.25)\n",
    "q3 = df['Maxpulse'].quantile(0.75)\n",
    "iqr = q3 - q1\n",
    "print(f'O intervalo interquartil (IQR) para a coluna \"Maxpulse\" é: {iqr:.2f}')"
   ]
  },
  {
   "cell_type": "code",
   "execution_count": 23,
   "id": "7b602f76",
   "metadata": {},
   "outputs": [
    {
     "name": "stdout",
     "output_type": "stream",
     "text": [
      "O coeficiente de variação da coluna \"Calories\" é: 70.89%\n"
     ]
    }
   ],
   "source": [
    "#15. Qual é o coeficiente de variação da coluna \"Calories\"?\n",
    "coeficiente_variacao_calorias = (desvio_padrao_calorias / df['Calories'].mean()) * 100\n",
    "print(f'O coeficiente de variação da coluna \"Calories\" é: {coeficiente_variacao_calorias:.2f}%') \n"
   ]
  },
  {
   "cell_type": "code",
   "execution_count": 24,
   "id": "116c19ec",
   "metadata": {},
   "outputs": [
    {
     "name": "stdout",
     "output_type": "stream",
     "text": [
      "Duration    0\n",
      "Pulse       0\n",
      "Maxpulse    0\n",
      "Calories    5\n",
      "dtype: int64\n"
     ]
    }
   ],
   "source": [
    "# 4. Verifique se há valores ausentes no dataset e exiba a contagem de valores ausentes por coluna.\n",
    "print(df.isnull().sum())"
   ]
  },
  {
   "cell_type": "code",
   "execution_count": null,
   "id": "28e89905",
   "metadata": {},
   "outputs": [],
   "source": [
    "df"
   ]
  },
  {
   "cell_type": "code",
   "execution_count": null,
   "id": "79466277",
   "metadata": {},
   "outputs": [],
   "source": [
    "# substitua valores ausentes na coluna \"Calories\" pela média da coluna.\n",
    "media_calorias = df['Calories'].mean()\n",
    "df['Calories'].fillna(media_calorias, inplace=True)\n",
    "    "
   ]
  },
  {
   "cell_type": "code",
   "execution_count": 27,
   "id": "25d66791",
   "metadata": {},
   "outputs": [
    {
     "data": {
      "text/html": [
       "<div>\n",
       "<style scoped>\n",
       "    .dataframe tbody tr th:only-of-type {\n",
       "        vertical-align: middle;\n",
       "    }\n",
       "\n",
       "    .dataframe tbody tr th {\n",
       "        vertical-align: top;\n",
       "    }\n",
       "\n",
       "    .dataframe thead th {\n",
       "        text-align: right;\n",
       "    }\n",
       "</style>\n",
       "<table border=\"1\" class=\"dataframe\">\n",
       "  <thead>\n",
       "    <tr style=\"text-align: right;\">\n",
       "      <th></th>\n",
       "      <th>Duration</th>\n",
       "      <th>Pulse</th>\n",
       "      <th>Maxpulse</th>\n",
       "      <th>Calories</th>\n",
       "    </tr>\n",
       "  </thead>\n",
       "  <tbody>\n",
       "    <tr>\n",
       "      <th>0</th>\n",
       "      <td>60</td>\n",
       "      <td>110</td>\n",
       "      <td>130</td>\n",
       "      <td>409.1</td>\n",
       "    </tr>\n",
       "    <tr>\n",
       "      <th>1</th>\n",
       "      <td>60</td>\n",
       "      <td>117</td>\n",
       "      <td>145</td>\n",
       "      <td>479.0</td>\n",
       "    </tr>\n",
       "    <tr>\n",
       "      <th>2</th>\n",
       "      <td>60</td>\n",
       "      <td>103</td>\n",
       "      <td>135</td>\n",
       "      <td>340.0</td>\n",
       "    </tr>\n",
       "    <tr>\n",
       "      <th>3</th>\n",
       "      <td>45</td>\n",
       "      <td>109</td>\n",
       "      <td>175</td>\n",
       "      <td>282.4</td>\n",
       "    </tr>\n",
       "    <tr>\n",
       "      <th>4</th>\n",
       "      <td>45</td>\n",
       "      <td>117</td>\n",
       "      <td>148</td>\n",
       "      <td>406.0</td>\n",
       "    </tr>\n",
       "    <tr>\n",
       "      <th>...</th>\n",
       "      <td>...</td>\n",
       "      <td>...</td>\n",
       "      <td>...</td>\n",
       "      <td>...</td>\n",
       "    </tr>\n",
       "    <tr>\n",
       "      <th>164</th>\n",
       "      <td>60</td>\n",
       "      <td>105</td>\n",
       "      <td>140</td>\n",
       "      <td>290.8</td>\n",
       "    </tr>\n",
       "    <tr>\n",
       "      <th>165</th>\n",
       "      <td>60</td>\n",
       "      <td>110</td>\n",
       "      <td>145</td>\n",
       "      <td>300.0</td>\n",
       "    </tr>\n",
       "    <tr>\n",
       "      <th>166</th>\n",
       "      <td>60</td>\n",
       "      <td>115</td>\n",
       "      <td>145</td>\n",
       "      <td>310.2</td>\n",
       "    </tr>\n",
       "    <tr>\n",
       "      <th>167</th>\n",
       "      <td>75</td>\n",
       "      <td>120</td>\n",
       "      <td>150</td>\n",
       "      <td>320.4</td>\n",
       "    </tr>\n",
       "    <tr>\n",
       "      <th>168</th>\n",
       "      <td>75</td>\n",
       "      <td>125</td>\n",
       "      <td>150</td>\n",
       "      <td>330.4</td>\n",
       "    </tr>\n",
       "  </tbody>\n",
       "</table>\n",
       "<p>169 rows × 4 columns</p>\n",
       "</div>"
      ],
      "text/plain": [
       "     Duration  Pulse  Maxpulse  Calories\n",
       "0          60    110       130     409.1\n",
       "1          60    117       145     479.0\n",
       "2          60    103       135     340.0\n",
       "3          45    109       175     282.4\n",
       "4          45    117       148     406.0\n",
       "..        ...    ...       ...       ...\n",
       "164        60    105       140     290.8\n",
       "165        60    110       145     300.0\n",
       "166        60    115       145     310.2\n",
       "167        75    120       150     320.4\n",
       "168        75    125       150     330.4\n",
       "\n",
       "[169 rows x 4 columns]"
      ]
     },
     "execution_count": 27,
     "metadata": {},
     "output_type": "execute_result"
    }
   ],
   "source": [
    "df"
   ]
  },
  {
   "cell_type": "code",
   "execution_count": 28,
   "id": "244cd406",
   "metadata": {},
   "outputs": [
    {
     "data": {
      "text/plain": [
       "Duration    0\n",
       "Pulse       0\n",
       "Maxpulse    0\n",
       "Calories    0\n",
       "dtype: int64"
      ]
     },
     "execution_count": 28,
     "metadata": {},
     "output_type": "execute_result"
    }
   ],
   "source": [
    "df.isnull().sum()"
   ]
  },
  {
   "cell_type": "code",
   "execution_count": 30,
   "id": "e1a67f08",
   "metadata": {},
   "outputs": [
    {
     "data": {
      "image/png": "[encoded data removed]",
      "text/plain": [
       "<Figure size 640x480 with 1 Axes>"
      ]
     },
     "metadata": {},
     "output_type": "display_data"
    }
   ],
   "source": [
    "# Plotagem de Dados:\n",
    "# 16. Crie um histograma da coluna \"Duration\" com 10 bins.\n",
    "import matplotlib.pyplot as plt\n",
    "plt.hist(df['Duration'], bins=10, edgecolor='black')\n",
    "plt.title('Histograma da coluna Duration')\n",
    "plt.xlabel('Duration')\n",
    "plt.ylabel('Frequência')\n",
    "plt.show()"
   ]
  },
  {
   "cell_type": "code",
   "execution_count": 32,
   "id": "ecdda956",
   "metadata": {},
   "outputs": [
    {
     "data": {
      "image/png": "[encoded data removed]",
      "text/plain": [
       "<Figure size 640x480 with 1 Axes>"
      ]
     },
     "metadata": {},
     "output_type": "display_data"
    }
   ],
   "source": [
    "# Bara\n",
    "import matplotlib.pyplot as plt\n",
    "plt.bar(df['Duration'], df['Calories'], color='blue')\n",
    "plt.title('Gráfico de Barras: Duration vs Calories')\n",
    "plt.xlabel('Duration')\n",
    "plt.ylabel('Calories')\n",
    "plt.show()\n"
   ]
  }
 ],
 "metadata": {
  "kernelspec": {
   "display_name": "Python 3",
   "language": "python",
   "name": "python3"
  },
  "language_info": {
   "codemirror_mode": {
    "name": "ipython",
    "version": 3
   },
   "file_extension": ".py",
   "mimetype": "text/x-python",
   "name": "python",
   "nbconvert_exporter": "python",
   "pygments_lexer": "ipython3",
   "version": "3.13.7"
  }
 },
 "nbformat": 4,
 "nbformat_minor": 5
}
